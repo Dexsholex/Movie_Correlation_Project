{
 "cells": [
  {
   "cell_type": "code",
   "execution_count": null,
   "id": "34db74d3",
   "metadata": {},
   "outputs": [],
   "source": [
    "# Import libraries\n",
    "import numpy as np\n",
    "import pandas as pd\n",
    "import seaborn as sns\n",
    "import datetime\n",
    "\n",
    "import matplotlib\n",
    "import matplotlib.pyplot as plt\n",
    "plt.style.use('ggplot')\n",
    "from matplotlib.pyplot import figure\n",
    "\n",
    "%matplotlib inline\n",
    "matplotlib.rcParams['figure.figsize'] = (12,8) # Adjust the comfiguretion of the plots we will create."
   ]
  },
  {
   "cell_type": "code",
   "execution_count": null,
   "id": "259283b1",
   "metadata": {},
   "outputs": [],
   "source": [
    "df.head()"
   ]
  },
  {
   "cell_type": "code",
   "execution_count": null,
   "id": "521ed118",
   "metadata": {},
   "outputs": [],
   "source": []
  },
  {
   "cell_type": "code",
   "execution_count": null,
   "id": "fb0659e5",
   "metadata": {},
   "outputs": [],
   "source": [
    "# Let's categorize the columns with object datatype.\n",
    "df_categorized = df\n",
    "\n",
    "for col_name in df_categorized.columns:\n",
    "    if (df_categorized[col_name].dtype == 'object'):\n",
    "        df_categorized[col_name] = df_categorized[col_name].astype('category')\n",
    "        df_categorized[col_name] = df_categorized[col_name].cat.codes\n",
    "        \n",
    "df_categorized.head()"
   ]
  },
  {
   "cell_type": "code",
   "execution_count": null,
   "id": "3f978ae8",
   "metadata": {},
   "outputs": [],
   "source": [
    "df.dtypes()"
   ]
  },
  {
   "cell_type": "code",
   "execution_count": null,
   "id": "3fba192f",
   "metadata": {},
   "outputs": [],
   "source": []
  },
  {
   "cell_type": "code",
   "execution_count": null,
   "id": "93106ae0",
   "metadata": {},
   "outputs": [],
   "source": []
  }
 ],
 "metadata": {
  "kernelspec": {
   "display_name": "Python [conda env:dap]",
   "language": "python",
   "name": "conda-env-dap-py"
  },
  "language_info": {
   "codemirror_mode": {
    "name": "ipython",
    "version": 3
   },
   "file_extension": ".py",
   "mimetype": "text/x-python",
   "name": "python",
   "nbconvert_exporter": "python",
   "pygments_lexer": "ipython3",
   "version": "3.9.7"
  }
 },
 "nbformat": 4,
 "nbformat_minor": 5
}
