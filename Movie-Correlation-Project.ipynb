{
 "cells": [
  {
   "cell_type": "markdown",
   "id": "60145157",
   "metadata": {},
   "source": [
    "# Project: Investigate a Dataset (Find Correlation between Movies Features)\n",
    "\n",
    "Oluwasola Oyinloye (June 01, 2022)\n"
   ]
  },
  {
   "cell_type": "markdown",
   "id": "10edc4f3",
   "metadata": {},
   "source": [
    "<a id='intro'></a>\n",
    "## Introduction\n",
    "\n",
    "In this project, i have investigated a dataset of Movies records from 1980 to 2020. The dataset include some attributes of movies. The analysis is focused on finding correlation influencing movies gross revenue.\n",
    "\n",
    "The original movie data set can be found here:\n",
    "https://www.kaggle.com/danielgrijalvas/movies"
   ]
  },
  {
   "cell_type": "code",
   "execution_count": 1,
   "id": "14217d91",
   "metadata": {},
   "outputs": [],
   "source": [
    "# Import libraries\n",
    "import numpy as np\n",
    "import pandas as pd\n",
    "import seaborn as sns\n",
    "import datetime\n",
    "\n",
    "import matplotlib\n",
    "import matplotlib.pyplot as plt\n",
    "plt.style.use('ggplot')\n",
    "from matplotlib.pyplot import figure\n",
    "\n",
    "%matplotlib inline\n",
    "matplotlib.rcParams['figure.figsize'] = (12,8) # Adjust the comfiguretion of the plots we will create."
   ]
  },
  {
   "cell_type": "code",
   "execution_count": 2,
   "id": "6e42992c",
   "metadata": {},
   "outputs": [],
   "source": [
    "# Read in the data\n",
    "df = pd.read_csv('movies.csv')"
   ]
  },
  {
   "cell_type": "code",
   "execution_count": 3,
   "id": "12b8d667",
   "metadata": {},
   "outputs": [
    {
     "data": {
      "text/html": [
       "<div>\n",
       "<style scoped>\n",
       "    .dataframe tbody tr th:only-of-type {\n",
       "        vertical-align: middle;\n",
       "    }\n",
       "\n",
       "    .dataframe tbody tr th {\n",
       "        vertical-align: top;\n",
       "    }\n",
       "\n",
       "    .dataframe thead th {\n",
       "        text-align: right;\n",
       "    }\n",
       "</style>\n",
       "<table border=\"1\" class=\"dataframe\">\n",
       "  <thead>\n",
       "    <tr style=\"text-align: right;\">\n",
       "      <th></th>\n",
       "      <th>name</th>\n",
       "      <th>rating</th>\n",
       "      <th>genre</th>\n",
       "      <th>year</th>\n",
       "      <th>released</th>\n",
       "      <th>score</th>\n",
       "      <th>votes</th>\n",
       "      <th>director</th>\n",
       "      <th>writer</th>\n",
       "      <th>star</th>\n",
       "      <th>country</th>\n",
       "      <th>budget</th>\n",
       "      <th>gross</th>\n",
       "      <th>company</th>\n",
       "      <th>runtime</th>\n",
       "    </tr>\n",
       "  </thead>\n",
       "  <tbody>\n",
       "    <tr>\n",
       "      <th>0</th>\n",
       "      <td>The Shining</td>\n",
       "      <td>R</td>\n",
       "      <td>Drama</td>\n",
       "      <td>1980</td>\n",
       "      <td>June 13, 1980 (United States)</td>\n",
       "      <td>8.4</td>\n",
       "      <td>927000.0</td>\n",
       "      <td>Stanley Kubrick</td>\n",
       "      <td>Stephen King</td>\n",
       "      <td>Jack Nicholson</td>\n",
       "      <td>United Kingdom</td>\n",
       "      <td>19000000.0</td>\n",
       "      <td>46998772.0</td>\n",
       "      <td>Warner Bros.</td>\n",
       "      <td>146.0</td>\n",
       "    </tr>\n",
       "    <tr>\n",
       "      <th>1</th>\n",
       "      <td>The Blue Lagoon</td>\n",
       "      <td>R</td>\n",
       "      <td>Adventure</td>\n",
       "      <td>1980</td>\n",
       "      <td>July 2, 1980 (United States)</td>\n",
       "      <td>5.8</td>\n",
       "      <td>65000.0</td>\n",
       "      <td>Randal Kleiser</td>\n",
       "      <td>Henry De Vere Stacpoole</td>\n",
       "      <td>Brooke Shields</td>\n",
       "      <td>United States</td>\n",
       "      <td>4500000.0</td>\n",
       "      <td>58853106.0</td>\n",
       "      <td>Columbia Pictures</td>\n",
       "      <td>104.0</td>\n",
       "    </tr>\n",
       "    <tr>\n",
       "      <th>2</th>\n",
       "      <td>Star Wars: Episode V - The Empire Strikes Back</td>\n",
       "      <td>PG</td>\n",
       "      <td>Action</td>\n",
       "      <td>1980</td>\n",
       "      <td>June 20, 1980 (United States)</td>\n",
       "      <td>8.7</td>\n",
       "      <td>1200000.0</td>\n",
       "      <td>Irvin Kershner</td>\n",
       "      <td>Leigh Brackett</td>\n",
       "      <td>Mark Hamill</td>\n",
       "      <td>United States</td>\n",
       "      <td>18000000.0</td>\n",
       "      <td>538375067.0</td>\n",
       "      <td>Lucasfilm</td>\n",
       "      <td>124.0</td>\n",
       "    </tr>\n",
       "    <tr>\n",
       "      <th>3</th>\n",
       "      <td>Airplane!</td>\n",
       "      <td>PG</td>\n",
       "      <td>Comedy</td>\n",
       "      <td>1980</td>\n",
       "      <td>July 2, 1980 (United States)</td>\n",
       "      <td>7.7</td>\n",
       "      <td>221000.0</td>\n",
       "      <td>Jim Abrahams</td>\n",
       "      <td>Jim Abrahams</td>\n",
       "      <td>Robert Hays</td>\n",
       "      <td>United States</td>\n",
       "      <td>3500000.0</td>\n",
       "      <td>83453539.0</td>\n",
       "      <td>Paramount Pictures</td>\n",
       "      <td>88.0</td>\n",
       "    </tr>\n",
       "    <tr>\n",
       "      <th>4</th>\n",
       "      <td>Caddyshack</td>\n",
       "      <td>R</td>\n",
       "      <td>Comedy</td>\n",
       "      <td>1980</td>\n",
       "      <td>July 25, 1980 (United States)</td>\n",
       "      <td>7.3</td>\n",
       "      <td>108000.0</td>\n",
       "      <td>Harold Ramis</td>\n",
       "      <td>Brian Doyle-Murray</td>\n",
       "      <td>Chevy Chase</td>\n",
       "      <td>United States</td>\n",
       "      <td>6000000.0</td>\n",
       "      <td>39846344.0</td>\n",
       "      <td>Orion Pictures</td>\n",
       "      <td>98.0</td>\n",
       "    </tr>\n",
       "  </tbody>\n",
       "</table>\n",
       "</div>"
      ],
      "text/plain": [
       "                                             name rating      genre  year  \\\n",
       "0                                     The Shining      R      Drama  1980   \n",
       "1                                 The Blue Lagoon      R  Adventure  1980   \n",
       "2  Star Wars: Episode V - The Empire Strikes Back     PG     Action  1980   \n",
       "3                                       Airplane!     PG     Comedy  1980   \n",
       "4                                      Caddyshack      R     Comedy  1980   \n",
       "\n",
       "                        released  score      votes         director  \\\n",
       "0  June 13, 1980 (United States)    8.4   927000.0  Stanley Kubrick   \n",
       "1   July 2, 1980 (United States)    5.8    65000.0   Randal Kleiser   \n",
       "2  June 20, 1980 (United States)    8.7  1200000.0   Irvin Kershner   \n",
       "3   July 2, 1980 (United States)    7.7   221000.0     Jim Abrahams   \n",
       "4  July 25, 1980 (United States)    7.3   108000.0     Harold Ramis   \n",
       "\n",
       "                    writer            star         country      budget  \\\n",
       "0             Stephen King  Jack Nicholson  United Kingdom  19000000.0   \n",
       "1  Henry De Vere Stacpoole  Brooke Shields   United States   4500000.0   \n",
       "2           Leigh Brackett     Mark Hamill   United States  18000000.0   \n",
       "3             Jim Abrahams     Robert Hays   United States   3500000.0   \n",
       "4       Brian Doyle-Murray     Chevy Chase   United States   6000000.0   \n",
       "\n",
       "         gross             company  runtime  \n",
       "0   46998772.0        Warner Bros.    146.0  \n",
       "1   58853106.0   Columbia Pictures    104.0  \n",
       "2  538375067.0           Lucasfilm    124.0  \n",
       "3   83453539.0  Paramount Pictures     88.0  \n",
       "4   39846344.0      Orion Pictures     98.0  "
      ]
     },
     "execution_count": 3,
     "metadata": {},
     "output_type": "execute_result"
    }
   ],
   "source": [
    "# Let's have an initial view of the dataset.\n",
    "df.head()"
   ]
  },
  {
   "cell_type": "code",
   "execution_count": 4,
   "id": "208dce63",
   "metadata": {},
   "outputs": [
    {
     "name": "stdout",
     "output_type": "stream",
     "text": [
      "<class 'pandas.core.frame.DataFrame'>\n",
      "RangeIndex: 7668 entries, 0 to 7667\n",
      "Data columns (total 15 columns):\n",
      " #   Column    Non-Null Count  Dtype  \n",
      "---  ------    --------------  -----  \n",
      " 0   name      7668 non-null   object \n",
      " 1   rating    7591 non-null   object \n",
      " 2   genre     7668 non-null   object \n",
      " 3   year      7668 non-null   int64  \n",
      " 4   released  7666 non-null   object \n",
      " 5   score     7665 non-null   float64\n",
      " 6   votes     7665 non-null   float64\n",
      " 7   director  7668 non-null   object \n",
      " 8   writer    7665 non-null   object \n",
      " 9   star      7667 non-null   object \n",
      " 10  country   7665 non-null   object \n",
      " 11  budget    5497 non-null   float64\n",
      " 12  gross     7479 non-null   float64\n",
      " 13  company   7651 non-null   object \n",
      " 14  runtime   7664 non-null   float64\n",
      "dtypes: float64(5), int64(1), object(9)\n",
      "memory usage: 898.7+ KB\n"
     ]
    }
   ],
   "source": [
    "# Another view of the dataset.\n",
    "df.info()"
   ]
  },
  {
   "cell_type": "code",
   "execution_count": 5,
   "id": "a670d233",
   "metadata": {},
   "outputs": [
    {
     "data": {
      "text/plain": [
       "Index(['name', 'rating', 'genre', 'year', 'released', 'score', 'votes',\n",
       "       'director', 'writer', 'star', 'country', 'budget', 'gross', 'company',\n",
       "       'runtime'],\n",
       "      dtype='object')"
      ]
     },
     "execution_count": 5,
     "metadata": {},
     "output_type": "execute_result"
    }
   ],
   "source": [
    "# List of columns \n",
    "df.columns"
   ]
  },
  {
   "cell_type": "code",
   "execution_count": 6,
   "id": "43c339be",
   "metadata": {},
   "outputs": [
    {
     "data": {
      "text/html": [
       "<div>\n",
       "<style scoped>\n",
       "    .dataframe tbody tr th:only-of-type {\n",
       "        vertical-align: middle;\n",
       "    }\n",
       "\n",
       "    .dataframe tbody tr th {\n",
       "        vertical-align: top;\n",
       "    }\n",
       "\n",
       "    .dataframe thead th {\n",
       "        text-align: right;\n",
       "    }\n",
       "</style>\n",
       "<table border=\"1\" class=\"dataframe\">\n",
       "  <thead>\n",
       "    <tr style=\"text-align: right;\">\n",
       "      <th></th>\n",
       "      <th>year</th>\n",
       "      <th>score</th>\n",
       "      <th>votes</th>\n",
       "      <th>budget</th>\n",
       "      <th>gross</th>\n",
       "      <th>runtime</th>\n",
       "    </tr>\n",
       "  </thead>\n",
       "  <tbody>\n",
       "    <tr>\n",
       "      <th>count</th>\n",
       "      <td>7668.000000</td>\n",
       "      <td>7665.000000</td>\n",
       "      <td>7.665000e+03</td>\n",
       "      <td>5.497000e+03</td>\n",
       "      <td>7.479000e+03</td>\n",
       "      <td>7664.000000</td>\n",
       "    </tr>\n",
       "    <tr>\n",
       "      <th>mean</th>\n",
       "      <td>2000.405451</td>\n",
       "      <td>6.390411</td>\n",
       "      <td>8.810850e+04</td>\n",
       "      <td>3.558988e+07</td>\n",
       "      <td>7.850054e+07</td>\n",
       "      <td>107.261613</td>\n",
       "    </tr>\n",
       "    <tr>\n",
       "      <th>std</th>\n",
       "      <td>11.153508</td>\n",
       "      <td>0.968842</td>\n",
       "      <td>1.633238e+05</td>\n",
       "      <td>4.145730e+07</td>\n",
       "      <td>1.657251e+08</td>\n",
       "      <td>18.581247</td>\n",
       "    </tr>\n",
       "    <tr>\n",
       "      <th>min</th>\n",
       "      <td>1980.000000</td>\n",
       "      <td>1.900000</td>\n",
       "      <td>7.000000e+00</td>\n",
       "      <td>3.000000e+03</td>\n",
       "      <td>3.090000e+02</td>\n",
       "      <td>55.000000</td>\n",
       "    </tr>\n",
       "    <tr>\n",
       "      <th>25%</th>\n",
       "      <td>1991.000000</td>\n",
       "      <td>5.800000</td>\n",
       "      <td>9.100000e+03</td>\n",
       "      <td>1.000000e+07</td>\n",
       "      <td>4.532056e+06</td>\n",
       "      <td>95.000000</td>\n",
       "    </tr>\n",
       "    <tr>\n",
       "      <th>50%</th>\n",
       "      <td>2000.000000</td>\n",
       "      <td>6.500000</td>\n",
       "      <td>3.300000e+04</td>\n",
       "      <td>2.050000e+07</td>\n",
       "      <td>2.020576e+07</td>\n",
       "      <td>104.000000</td>\n",
       "    </tr>\n",
       "    <tr>\n",
       "      <th>75%</th>\n",
       "      <td>2010.000000</td>\n",
       "      <td>7.100000</td>\n",
       "      <td>9.300000e+04</td>\n",
       "      <td>4.500000e+07</td>\n",
       "      <td>7.601669e+07</td>\n",
       "      <td>116.000000</td>\n",
       "    </tr>\n",
       "    <tr>\n",
       "      <th>max</th>\n",
       "      <td>2020.000000</td>\n",
       "      <td>9.300000</td>\n",
       "      <td>2.400000e+06</td>\n",
       "      <td>3.560000e+08</td>\n",
       "      <td>2.847246e+09</td>\n",
       "      <td>366.000000</td>\n",
       "    </tr>\n",
       "  </tbody>\n",
       "</table>\n",
       "</div>"
      ],
      "text/plain": [
       "              year        score         votes        budget         gross  \\\n",
       "count  7668.000000  7665.000000  7.665000e+03  5.497000e+03  7.479000e+03   \n",
       "mean   2000.405451     6.390411  8.810850e+04  3.558988e+07  7.850054e+07   \n",
       "std      11.153508     0.968842  1.633238e+05  4.145730e+07  1.657251e+08   \n",
       "min    1980.000000     1.900000  7.000000e+00  3.000000e+03  3.090000e+02   \n",
       "25%    1991.000000     5.800000  9.100000e+03  1.000000e+07  4.532056e+06   \n",
       "50%    2000.000000     6.500000  3.300000e+04  2.050000e+07  2.020576e+07   \n",
       "75%    2010.000000     7.100000  9.300000e+04  4.500000e+07  7.601669e+07   \n",
       "max    2020.000000     9.300000  2.400000e+06  3.560000e+08  2.847246e+09   \n",
       "\n",
       "           runtime  \n",
       "count  7664.000000  \n",
       "mean    107.261613  \n",
       "std      18.581247  \n",
       "min      55.000000  \n",
       "25%      95.000000  \n",
       "50%     104.000000  \n",
       "75%     116.000000  \n",
       "max     366.000000  "
      ]
     },
     "execution_count": 6,
     "metadata": {},
     "output_type": "execute_result"
    }
   ],
   "source": [
    "# Summary statistics of the dataframe.\n",
    "df.describe()"
   ]
  },
  {
   "cell_type": "markdown",
   "id": "5988570e",
   "metadata": {},
   "source": [
    "**Additional Information**\n",
    "\n",
    "* **Age**: The movies score are 6.4 on average. 25% of the scores are below 5.8 and majority of the patients are below 7.1."
   ]
  },
  {
   "cell_type": "code",
   "execution_count": 7,
   "id": "a651ba3f",
   "metadata": {},
   "outputs": [
    {
     "data": {
      "text/plain": [
       "name           0\n",
       "rating        77\n",
       "genre          0\n",
       "year           0\n",
       "released       2\n",
       "score          3\n",
       "votes          3\n",
       "director       0\n",
       "writer         3\n",
       "star           1\n",
       "country        3\n",
       "budget      2171\n",
       "gross        189\n",
       "company       17\n",
       "runtime        4\n",
       "dtype: int64"
      ]
     },
     "execution_count": 7,
     "metadata": {},
     "output_type": "execute_result"
    }
   ],
   "source": [
    "# Check for missing values.\n",
    "df.isna().sum()"
   ]
  },
  {
   "cell_type": "markdown",
   "id": "a09c47d9",
   "metadata": {},
   "source": [
    "There are 77, 2, 3, 3, 3, 1, 3, 2171, 189, 17 and 4 missing values in the rating, released, score, votes, writer, star, country, budget, gross, company and runtime columns respectively."
   ]
  },
  {
   "cell_type": "code",
   "execution_count": 8,
   "id": "1b123b45",
   "metadata": {},
   "outputs": [],
   "source": [
    "# Replacing missing values with appropriate central tendency of data.\n",
    "# Fill score column with mean\n",
    "df.score = df['score'].fillna(df['score'].mean())\n",
    "\n",
    "# Fill votes column with mean\n",
    "df.votes = df['votes'].fillna(df['votes'].mean())\n",
    "\n",
    "# Fill budget column with mean\n",
    "df.budget = df['budget'].fillna(df['budget'].mean())\n",
    "\n",
    "# Fill gross column with mean\n",
    "df.gross = df['gross'].fillna(df['gross'].mean())\n",
    "\n",
    "\n",
    "\n",
    "# Fill the object(string) column type with the previous value.\n",
    "df.runtime = df['runtime'].fillna(method='pad')\n",
    "df.rating = df['rating'].fillna(method='pad')\n",
    "df.released = df['released'].fillna(method='pad')\n",
    "df.writer = df['writer'].fillna(method='pad')\n",
    "df.star = df['star'].fillna(method='pad')\n",
    "df.country = df['country'].fillna(method='pad')\n",
    "df.company = df['company'].fillna(method='pad')"
   ]
  },
  {
   "cell_type": "code",
   "execution_count": 9,
   "id": "a9b2f457",
   "metadata": {},
   "outputs": [
    {
     "data": {
      "text/plain": [
       "name        0\n",
       "rating      0\n",
       "genre       0\n",
       "year        0\n",
       "released    0\n",
       "score       0\n",
       "votes       0\n",
       "director    0\n",
       "writer      0\n",
       "star        0\n",
       "country     0\n",
       "budget      0\n",
       "gross       0\n",
       "company     0\n",
       "runtime     0\n",
       "dtype: int64"
      ]
     },
     "execution_count": 9,
     "metadata": {},
     "output_type": "execute_result"
    }
   ],
   "source": [
    "# Check that the missing values are filled appropriately\n",
    "df.isnull().sum()"
   ]
  },
  {
   "cell_type": "code",
   "execution_count": 10,
   "id": "67ed51f0",
   "metadata": {},
   "outputs": [],
   "source": [
    "# extract the year from released column to create a correct_year column.\n",
    "# Since the year column and the released column year does not correspond\n",
    "# through out the rows.\n",
    "df['correct_year'] = df['released'].str.extract(r'(?<=, )(\\d+)', expand=False).fillna('')\n",
    "df['correct_year'] = pd.to_datetime(df['correct_year']).dt.strftime('%Y')"
   ]
  },
  {
   "cell_type": "code",
   "execution_count": 11,
   "id": "a583bbb0",
   "metadata": {},
   "outputs": [
    {
     "data": {
      "text/plain": [
       "0                                          The Shining\n",
       "1                                      The Blue Lagoon\n",
       "2       Star Wars: Episode V - The Empire Strikes Back\n",
       "3                                            Airplane!\n",
       "4                                           Caddyshack\n",
       "                             ...                      \n",
       "7663                                      More to Life\n",
       "7664                                       Dream Round\n",
       "7665                                     Saving Mbango\n",
       "7666                                      It's Just Us\n",
       "7667                                         Tee em el\n",
       "Name: name, Length: 7512, dtype: object"
      ]
     },
     "execution_count": 11,
     "metadata": {},
     "output_type": "execute_result"
    }
   ],
   "source": [
    "# Check for duplicates in the name column and drop.\n",
    "df['name'].drop_duplicates(keep='first')"
   ]
  },
  {
   "cell_type": "code",
   "execution_count": 12,
   "id": "5aa7fe2b",
   "metadata": {},
   "outputs": [
    {
     "name": "stdout",
     "output_type": "stream",
     "text": [
      "The dataframe is composed of movies from 1980 to 2020\n"
     ]
    }
   ],
   "source": [
    "# Let's see the year the movies were compiled.\n",
    "print('The dataframe is composed of movies from {} to {}'.format(df['year'].min(),df['year'].max()))"
   ]
  },
  {
   "cell_type": "markdown",
   "id": "33c94002",
   "metadata": {},
   "source": [
    "### **Value counts of some columns to have a look of popular values.**"
   ]
  },
  {
   "cell_type": "code",
   "execution_count": 13,
   "id": "d7cf5f51",
   "metadata": {},
   "outputs": [
    {
     "data": {
      "text/plain": [
       "R            3733\n",
       "PG-13        2125\n",
       "PG           1269\n",
       "Not Rated     292\n",
       "G             155\n",
       "Unrated        52\n",
       "NC-17          23\n",
       "TV-MA           9\n",
       "TV-PG           5\n",
       "X               3\n",
       "Approved        1\n",
       "TV-14           1\n",
       "Name: rating, dtype: int64"
      ]
     },
     "execution_count": 13,
     "metadata": {},
     "output_type": "execute_result"
    }
   ],
   "source": [
    "# Value count of rating column.\n",
    "df['rating'].value_counts()"
   ]
  },
  {
   "cell_type": "markdown",
   "id": "ce86c32a",
   "metadata": {},
   "source": [
    "The popular movies rating from 1980 to 2020 are R, PG-13, PG with count of 3733, 2125, 1269 respectively and the least popolar are TV-MA, TV-PG, X, Approved, TV-14 with count of 9, 5, 3, 1 respectively."
   ]
  },
  {
   "cell_type": "code",
   "execution_count": 14,
   "id": "b3255b37",
   "metadata": {},
   "outputs": [
    {
     "data": {
      "text/plain": [
       "Comedy       2245\n",
       "Action       1705\n",
       "Drama        1518\n",
       "Crime         551\n",
       "Biography     443\n",
       "Adventure     427\n",
       "Animation     338\n",
       "Horror        322\n",
       "Fantasy        44\n",
       "Mystery        20\n",
       "Thriller       16\n",
       "Family         11\n",
       "Sci-Fi         10\n",
       "Romance        10\n",
       "Western         3\n",
       "Musical         2\n",
       "Music           1\n",
       "History         1\n",
       "Sport           1\n",
       "Name: genre, dtype: int64"
      ]
     },
     "execution_count": 14,
     "metadata": {},
     "output_type": "execute_result"
    }
   ],
   "source": [
    "# Value count of genre column.\n",
    "df['genre'].value_counts()"
   ]
  },
  {
   "cell_type": "markdown",
   "id": "565f97b9",
   "metadata": {},
   "source": [
    "The popular movies genre from 1980 to 2020 are Comedy, Action, Drama with count of 2245, 1705, 1518 respectively and the least popolar are Sci-Fi and Romance, Western, Musical, Music, History, Sport with count of 10, 10, 3, 2, 1, 1, 1 respectively."
   ]
  },
  {
   "cell_type": "code",
   "execution_count": 15,
   "id": "baad20b5",
   "metadata": {},
   "outputs": [
    {
     "data": {
      "text/plain": [
       "6.6    359\n",
       "6.4    351\n",
       "6.2    346\n",
       "6.7    332\n",
       "6.5    331\n",
       "      ... \n",
       "2.8      2\n",
       "9.3      1\n",
       "2.6      1\n",
       "2.3      1\n",
       "9.0      1\n",
       "Name: score, Length: 73, dtype: int64"
      ]
     },
     "execution_count": 15,
     "metadata": {},
     "output_type": "execute_result"
    }
   ],
   "source": [
    "# Value count of score column.\n",
    "df['score'].value_counts()"
   ]
  },
  {
   "cell_type": "markdown",
   "id": "cd18148f",
   "metadata": {},
   "source": [
    "The popular movies score from 1980 to 2020 are 6.6, 6.4, 6.2 with count of 359, 351, 346 respectively and the least popolar are 2.8, 9.3, 2.6, 2.3, 9.0 with count of 2, 1, 1, 1, 1 respectively."
   ]
  },
  {
   "cell_type": "code",
   "execution_count": 16,
   "id": "2f92ede3",
   "metadata": {},
   "outputs": [
    {
     "data": {
      "text/plain": [
       "Woody Allen         38\n",
       "Clint Eastwood      31\n",
       "Directors           28\n",
       "Steven Spielberg    27\n",
       "Ron Howard          24\n",
       "                    ..\n",
       "Marcelo Epstein      1\n",
       "Thomas Rickman       1\n",
       "Paolo Taviani        1\n",
       "Lawrence Dane        1\n",
       "Pereko Mosia         1\n",
       "Name: director, Length: 2949, dtype: int64"
      ]
     },
     "execution_count": 16,
     "metadata": {},
     "output_type": "execute_result"
    }
   ],
   "source": [
    "# Value count of director column.\n",
    "df['director'].value_counts()"
   ]
  },
  {
   "cell_type": "markdown",
   "id": "73f8b9c3",
   "metadata": {},
   "source": [
    "The top movies directors from 1980 to 2020 are Woody Allen, Clint Eastwood with count of 38, 31 respectively and the least popolar are Marcelo Epstein, Thomas Rickman , Paolo Taviani, Lawrence Dane, Pereko Mosia with count of 1, 1, 1, 1, 1 respectively."
   ]
  },
  {
   "cell_type": "code",
   "execution_count": 17,
   "id": "c2a7b32d",
   "metadata": {},
   "outputs": [
    {
     "data": {
      "text/plain": [
       "Woody Allen        37\n",
       "Stephen King       31\n",
       "Luc Besson         26\n",
       "John Hughes        25\n",
       "David Mamet        15\n",
       "                   ..\n",
       "Bonnie Turner       1\n",
       "Dick King-Smith     1\n",
       "Helen Prejean       1\n",
       "Gilles Adrien       1\n",
       "Pereko Mosia        1\n",
       "Name: writer, Length: 4535, dtype: int64"
      ]
     },
     "execution_count": 17,
     "metadata": {},
     "output_type": "execute_result"
    }
   ],
   "source": [
    "# Value count of writer column.\n",
    "df['writer'].value_counts()"
   ]
  },
  {
   "cell_type": "markdown",
   "id": "307e319b",
   "metadata": {},
   "source": [
    "The top movies writer from 1980 to 2020 are Woody Allen, Stephen King  with count of 37, 31 respectively and the least popolar are Bonnie Turner, Dick King-Smith, Helen Prejean, Gilles Adrien, Pereko Mosia with count of 1, 1, 1, 1, 1 respectively."
   ]
  },
  {
   "cell_type": "code",
   "execution_count": 18,
   "id": "f85f09c7",
   "metadata": {
    "scrolled": true
   },
   "outputs": [
    {
     "data": {
      "text/plain": [
       "Nicolas Cage         43\n",
       "Robert De Niro       41\n",
       "Tom Hanks            41\n",
       "Denzel Washington    37\n",
       "Bruce Willis         34\n",
       "                     ..\n",
       "Schuyler Fisk         1\n",
       "Liesel Matthews       1\n",
       "James Cromwell        1\n",
       "Suzanna Love          1\n",
       "Siyabonga Mabaso      1\n",
       "Name: star, Length: 2814, dtype: int64"
      ]
     },
     "execution_count": 18,
     "metadata": {},
     "output_type": "execute_result"
    }
   ],
   "source": [
    "# Value count of star column.\n",
    "df['star'].value_counts()"
   ]
  },
  {
   "cell_type": "markdown",
   "id": "4f8bd280",
   "metadata": {},
   "source": [
    "The top stars from 1980 to 2020 are Nicolas Cage, Robert De Niro, Tom Hanks with count of 43, 41, 41 respectively and the least popolar are Schuyler Fisk, Liesel Matthews, James Cromwell, Suzanna Love, Siyabonga Mabaso with count of 1, 1, 1, 1, 1 respectively."
   ]
  },
  {
   "cell_type": "code",
   "execution_count": 19,
   "id": "ba8227b5",
   "metadata": {},
   "outputs": [
    {
     "data": {
      "text/plain": [
       "United States                     5476\n",
       "United Kingdom                     817\n",
       "France                             279\n",
       "Canada                             190\n",
       "Germany                            117\n",
       "Australia                           92\n",
       "Japan                               81\n",
       "Italy                               62\n",
       "India                               62\n",
       "Spain                               47\n",
       "Hong Kong                           45\n",
       "Ireland                             43\n",
       "China                               40\n",
       "South Korea                         35\n",
       "Denmark                             32\n",
       "Sweden                              25\n",
       "New Zealand                         25\n",
       "Mexico                              22\n",
       "Norway                              12\n",
       "West Germany                        12\n",
       "Netherlands                         12\n",
       "Iran                                10\n",
       "Switzerland                         10\n",
       "Russia                               8\n",
       "Belgium                              8\n",
       "Argentina                            8\n",
       "South Africa                         8\n",
       "Czech Republic                       8\n",
       "Taiwan                               7\n",
       "Thailand                             6\n",
       "Brazil                               6\n",
       "Hungary                              6\n",
       "Israel                               5\n",
       "Yugoslavia                           5\n",
       "Austria                              5\n",
       "Poland                               4\n",
       "Turkey                               3\n",
       "Finland                              3\n",
       "Philippines                          3\n",
       "Chile                                2\n",
       "Indonesia                            2\n",
       "United Arab Emirates                 2\n",
       "Iceland                              2\n",
       "Soviet Union                         2\n",
       "Greece                               2\n",
       "Federal Republic of Yugoslavia       2\n",
       "Vietnam                              2\n",
       "Portugal                             2\n",
       "Panama                               1\n",
       "Malta                                1\n",
       "Kenya                                1\n",
       "Libya                                1\n",
       "Serbia                               1\n",
       "Romania                              1\n",
       "Colombia                             1\n",
       "Aruba                                1\n",
       "Jamaica                              1\n",
       "Republic of Macedonia                1\n",
       "Lebanon                              1\n",
       "Name: country, dtype: int64"
      ]
     },
     "execution_count": 19,
     "metadata": {},
     "output_type": "execute_result"
    }
   ],
   "source": [
    "# Value count of country column.\n",
    "df['country'].value_counts()"
   ]
  },
  {
   "cell_type": "markdown",
   "id": "4af4c998",
   "metadata": {},
   "source": [
    "The top five countries movies were produced from 1980 to 2020 are United States, United Kingdom, France, Canada, Germany with count of 5476, 817, 279, 190, 117 respectively."
   ]
  },
  {
   "cell_type": "code",
   "execution_count": 20,
   "id": "76348ec2",
   "metadata": {},
   "outputs": [
    {
     "data": {
      "text/plain": [
       "Universal Pictures          377\n",
       "Warner Bros.                334\n",
       "Columbia Pictures           332\n",
       "Paramount Pictures          320\n",
       "Twentieth Century Fox       240\n",
       "                           ... \n",
       "NDF International             1\n",
       "Green Parrot                  1\n",
       "Doug Liman Productions        1\n",
       "Digital Image Associates      1\n",
       "PK 65 Films                   1\n",
       "Name: company, Length: 2385, dtype: int64"
      ]
     },
     "execution_count": 20,
     "metadata": {},
     "output_type": "execute_result"
    }
   ],
   "source": [
    "# Value count of company column.\n",
    "df['company'].value_counts()"
   ]
  },
  {
   "cell_type": "markdown",
   "id": "12f1c093",
   "metadata": {},
   "source": [
    "The top five company movies from 1980 to 2020 are Universal Pictures, Warner Bros, Columbia Pictures, Paramount Pictures, Twentieth Century Fox with count of 377, 334, 332, 320, 240 respectively."
   ]
  },
  {
   "cell_type": "code",
   "execution_count": 21,
   "id": "7ef972ff",
   "metadata": {},
   "outputs": [
    {
     "data": {
      "text/html": [
       "<div>\n",
       "<style scoped>\n",
       "    .dataframe tbody tr th:only-of-type {\n",
       "        vertical-align: middle;\n",
       "    }\n",
       "\n",
       "    .dataframe tbody tr th {\n",
       "        vertical-align: top;\n",
       "    }\n",
       "\n",
       "    .dataframe thead th {\n",
       "        text-align: right;\n",
       "    }\n",
       "</style>\n",
       "<table border=\"1\" class=\"dataframe\">\n",
       "  <thead>\n",
       "    <tr style=\"text-align: right;\">\n",
       "      <th></th>\n",
       "      <th>name</th>\n",
       "      <th>rating</th>\n",
       "      <th>genre</th>\n",
       "      <th>year</th>\n",
       "      <th>released</th>\n",
       "      <th>score</th>\n",
       "      <th>votes</th>\n",
       "      <th>director</th>\n",
       "      <th>writer</th>\n",
       "      <th>star</th>\n",
       "      <th>country</th>\n",
       "      <th>budget</th>\n",
       "      <th>gross</th>\n",
       "      <th>company</th>\n",
       "      <th>runtime</th>\n",
       "      <th>correct_year</th>\n",
       "    </tr>\n",
       "  </thead>\n",
       "  <tbody>\n",
       "    <tr>\n",
       "      <th>5445</th>\n",
       "      <td>Avatar</td>\n",
       "      <td>PG-13</td>\n",
       "      <td>Action</td>\n",
       "      <td>2009</td>\n",
       "      <td>December 18, 2009 (United States)</td>\n",
       "      <td>7.8</td>\n",
       "      <td>1100000.0</td>\n",
       "      <td>James Cameron</td>\n",
       "      <td>James Cameron</td>\n",
       "      <td>Sam Worthington</td>\n",
       "      <td>United States</td>\n",
       "      <td>2.370000e+08</td>\n",
       "      <td>2.847246e+09</td>\n",
       "      <td>Twentieth Century Fox</td>\n",
       "      <td>162.0</td>\n",
       "      <td>2009</td>\n",
       "    </tr>\n",
       "    <tr>\n",
       "      <th>7445</th>\n",
       "      <td>Avengers: Endgame</td>\n",
       "      <td>PG-13</td>\n",
       "      <td>Action</td>\n",
       "      <td>2019</td>\n",
       "      <td>April 26, 2019 (United States)</td>\n",
       "      <td>8.4</td>\n",
       "      <td>903000.0</td>\n",
       "      <td>Anthony Russo</td>\n",
       "      <td>Christopher Markus</td>\n",
       "      <td>Robert Downey Jr.</td>\n",
       "      <td>United States</td>\n",
       "      <td>3.560000e+08</td>\n",
       "      <td>2.797501e+09</td>\n",
       "      <td>Marvel Studios</td>\n",
       "      <td>181.0</td>\n",
       "      <td>2019</td>\n",
       "    </tr>\n",
       "    <tr>\n",
       "      <th>3045</th>\n",
       "      <td>Titanic</td>\n",
       "      <td>PG-13</td>\n",
       "      <td>Drama</td>\n",
       "      <td>1997</td>\n",
       "      <td>December 19, 1997 (United States)</td>\n",
       "      <td>7.8</td>\n",
       "      <td>1100000.0</td>\n",
       "      <td>James Cameron</td>\n",
       "      <td>James Cameron</td>\n",
       "      <td>Leonardo DiCaprio</td>\n",
       "      <td>United States</td>\n",
       "      <td>2.000000e+08</td>\n",
       "      <td>2.201647e+09</td>\n",
       "      <td>Twentieth Century Fox</td>\n",
       "      <td>194.0</td>\n",
       "      <td>1997</td>\n",
       "    </tr>\n",
       "    <tr>\n",
       "      <th>6663</th>\n",
       "      <td>Star Wars: Episode VII - The Force Awakens</td>\n",
       "      <td>PG-13</td>\n",
       "      <td>Action</td>\n",
       "      <td>2015</td>\n",
       "      <td>December 18, 2015 (United States)</td>\n",
       "      <td>7.8</td>\n",
       "      <td>876000.0</td>\n",
       "      <td>J.J. Abrams</td>\n",
       "      <td>Lawrence Kasdan</td>\n",
       "      <td>Daisy Ridley</td>\n",
       "      <td>United States</td>\n",
       "      <td>2.450000e+08</td>\n",
       "      <td>2.069522e+09</td>\n",
       "      <td>Lucasfilm</td>\n",
       "      <td>138.0</td>\n",
       "      <td>2015</td>\n",
       "    </tr>\n",
       "    <tr>\n",
       "      <th>7244</th>\n",
       "      <td>Avengers: Infinity War</td>\n",
       "      <td>PG-13</td>\n",
       "      <td>Action</td>\n",
       "      <td>2018</td>\n",
       "      <td>April 27, 2018 (United States)</td>\n",
       "      <td>8.4</td>\n",
       "      <td>897000.0</td>\n",
       "      <td>Anthony Russo</td>\n",
       "      <td>Christopher Markus</td>\n",
       "      <td>Robert Downey Jr.</td>\n",
       "      <td>United States</td>\n",
       "      <td>3.210000e+08</td>\n",
       "      <td>2.048360e+09</td>\n",
       "      <td>Marvel Studios</td>\n",
       "      <td>149.0</td>\n",
       "      <td>2018</td>\n",
       "    </tr>\n",
       "    <tr>\n",
       "      <th>...</th>\n",
       "      <td>...</td>\n",
       "      <td>...</td>\n",
       "      <td>...</td>\n",
       "      <td>...</td>\n",
       "      <td>...</td>\n",
       "      <td>...</td>\n",
       "      <td>...</td>\n",
       "      <td>...</td>\n",
       "      <td>...</td>\n",
       "      <td>...</td>\n",
       "      <td>...</td>\n",
       "      <td>...</td>\n",
       "      <td>...</td>\n",
       "      <td>...</td>\n",
       "      <td>...</td>\n",
       "      <td>...</td>\n",
       "    </tr>\n",
       "    <tr>\n",
       "      <th>3818</th>\n",
       "      <td>Love, Honor and Obey</td>\n",
       "      <td>R</td>\n",
       "      <td>Comedy</td>\n",
       "      <td>2000</td>\n",
       "      <td>February 9, 2001 (United States)</td>\n",
       "      <td>6.5</td>\n",
       "      <td>5200.0</td>\n",
       "      <td>Dominic Anciano</td>\n",
       "      <td>Dominic Anciano</td>\n",
       "      <td>Sadie Frost</td>\n",
       "      <td>United Kingdom</td>\n",
       "      <td>3.558988e+07</td>\n",
       "      <td>1.400000e+03</td>\n",
       "      <td>British Broadcasting Corporation (BBC)</td>\n",
       "      <td>103.0</td>\n",
       "      <td>2001</td>\n",
       "    </tr>\n",
       "    <tr>\n",
       "      <th>7625</th>\n",
       "      <td>The Untold Story</td>\n",
       "      <td>Not Rated</td>\n",
       "      <td>Comedy</td>\n",
       "      <td>2019</td>\n",
       "      <td>January 11, 2019 (United States)</td>\n",
       "      <td>5.7</td>\n",
       "      <td>320.0</td>\n",
       "      <td>Shane Stanley</td>\n",
       "      <td>Lee Stanley</td>\n",
       "      <td>Miko Hughes</td>\n",
       "      <td>United States</td>\n",
       "      <td>3.558988e+07</td>\n",
       "      <td>7.900000e+02</td>\n",
       "      <td>Visual Arts Entertainment</td>\n",
       "      <td>104.0</td>\n",
       "      <td>2019</td>\n",
       "    </tr>\n",
       "    <tr>\n",
       "      <th>7580</th>\n",
       "      <td>Run with the Hunted</td>\n",
       "      <td>Not Rated</td>\n",
       "      <td>Crime</td>\n",
       "      <td>2019</td>\n",
       "      <td>June 26, 2020 (United States)</td>\n",
       "      <td>5.2</td>\n",
       "      <td>735.0</td>\n",
       "      <td>John Swab</td>\n",
       "      <td>John Swab</td>\n",
       "      <td>Ron Perlman</td>\n",
       "      <td>United States</td>\n",
       "      <td>3.558988e+07</td>\n",
       "      <td>6.820000e+02</td>\n",
       "      <td>Roxwell Films</td>\n",
       "      <td>93.0</td>\n",
       "      <td>2020</td>\n",
       "    </tr>\n",
       "    <tr>\n",
       "      <th>2417</th>\n",
       "      <td>Madadayo</td>\n",
       "      <td>PG</td>\n",
       "      <td>Drama</td>\n",
       "      <td>1993</td>\n",
       "      <td>April 17, 1993 (Japan)</td>\n",
       "      <td>7.3</td>\n",
       "      <td>5100.0</td>\n",
       "      <td>Akira Kurosawa</td>\n",
       "      <td>Ishirô Honda</td>\n",
       "      <td>Tatsuo Matsumura</td>\n",
       "      <td>Japan</td>\n",
       "      <td>1.190000e+07</td>\n",
       "      <td>5.960000e+02</td>\n",
       "      <td>DENTSU Music And Entertainment</td>\n",
       "      <td>134.0</td>\n",
       "      <td>1993</td>\n",
       "    </tr>\n",
       "    <tr>\n",
       "      <th>3203</th>\n",
       "      <td>Trojan War</td>\n",
       "      <td>PG-13</td>\n",
       "      <td>Comedy</td>\n",
       "      <td>1997</td>\n",
       "      <td>October 1, 1997 (Brazil)</td>\n",
       "      <td>5.7</td>\n",
       "      <td>5800.0</td>\n",
       "      <td>George Huang</td>\n",
       "      <td>Andy Burg</td>\n",
       "      <td>Will Friedle</td>\n",
       "      <td>United States</td>\n",
       "      <td>1.500000e+07</td>\n",
       "      <td>3.090000e+02</td>\n",
       "      <td>Daybreak</td>\n",
       "      <td>85.0</td>\n",
       "      <td>1997</td>\n",
       "    </tr>\n",
       "  </tbody>\n",
       "</table>\n",
       "<p>7668 rows × 16 columns</p>\n",
       "</div>"
      ],
      "text/plain": [
       "                                            name     rating   genre  year  \\\n",
       "5445                                      Avatar      PG-13  Action  2009   \n",
       "7445                           Avengers: Endgame      PG-13  Action  2019   \n",
       "3045                                     Titanic      PG-13   Drama  1997   \n",
       "6663  Star Wars: Episode VII - The Force Awakens      PG-13  Action  2015   \n",
       "7244                      Avengers: Infinity War      PG-13  Action  2018   \n",
       "...                                          ...        ...     ...   ...   \n",
       "3818                        Love, Honor and Obey          R  Comedy  2000   \n",
       "7625                            The Untold Story  Not Rated  Comedy  2019   \n",
       "7580                         Run with the Hunted  Not Rated   Crime  2019   \n",
       "2417                                    Madadayo         PG   Drama  1993   \n",
       "3203                                  Trojan War      PG-13  Comedy  1997   \n",
       "\n",
       "                               released  score      votes         director  \\\n",
       "5445  December 18, 2009 (United States)    7.8  1100000.0    James Cameron   \n",
       "7445     April 26, 2019 (United States)    8.4   903000.0    Anthony Russo   \n",
       "3045  December 19, 1997 (United States)    7.8  1100000.0    James Cameron   \n",
       "6663  December 18, 2015 (United States)    7.8   876000.0      J.J. Abrams   \n",
       "7244     April 27, 2018 (United States)    8.4   897000.0    Anthony Russo   \n",
       "...                                 ...    ...        ...              ...   \n",
       "3818   February 9, 2001 (United States)    6.5     5200.0  Dominic Anciano   \n",
       "7625   January 11, 2019 (United States)    5.7      320.0    Shane Stanley   \n",
       "7580      June 26, 2020 (United States)    5.2      735.0        John Swab   \n",
       "2417             April 17, 1993 (Japan)    7.3     5100.0   Akira Kurosawa   \n",
       "3203           October 1, 1997 (Brazil)    5.7     5800.0     George Huang   \n",
       "\n",
       "                  writer               star         country        budget  \\\n",
       "5445       James Cameron    Sam Worthington   United States  2.370000e+08   \n",
       "7445  Christopher Markus  Robert Downey Jr.   United States  3.560000e+08   \n",
       "3045       James Cameron  Leonardo DiCaprio   United States  2.000000e+08   \n",
       "6663     Lawrence Kasdan       Daisy Ridley   United States  2.450000e+08   \n",
       "7244  Christopher Markus  Robert Downey Jr.   United States  3.210000e+08   \n",
       "...                  ...                ...             ...           ...   \n",
       "3818     Dominic Anciano        Sadie Frost  United Kingdom  3.558988e+07   \n",
       "7625         Lee Stanley        Miko Hughes   United States  3.558988e+07   \n",
       "7580           John Swab        Ron Perlman   United States  3.558988e+07   \n",
       "2417        Ishirô Honda   Tatsuo Matsumura           Japan  1.190000e+07   \n",
       "3203           Andy Burg       Will Friedle   United States  1.500000e+07   \n",
       "\n",
       "             gross                                 company  runtime  \\\n",
       "5445  2.847246e+09                   Twentieth Century Fox    162.0   \n",
       "7445  2.797501e+09                          Marvel Studios    181.0   \n",
       "3045  2.201647e+09                   Twentieth Century Fox    194.0   \n",
       "6663  2.069522e+09                               Lucasfilm    138.0   \n",
       "7244  2.048360e+09                          Marvel Studios    149.0   \n",
       "...            ...                                     ...      ...   \n",
       "3818  1.400000e+03  British Broadcasting Corporation (BBC)    103.0   \n",
       "7625  7.900000e+02               Visual Arts Entertainment    104.0   \n",
       "7580  6.820000e+02                           Roxwell Films     93.0   \n",
       "2417  5.960000e+02          DENTSU Music And Entertainment    134.0   \n",
       "3203  3.090000e+02                                Daybreak     85.0   \n",
       "\n",
       "     correct_year  \n",
       "5445         2009  \n",
       "7445         2019  \n",
       "3045         1997  \n",
       "6663         2015  \n",
       "7244         2018  \n",
       "...           ...  \n",
       "3818         2001  \n",
       "7625         2019  \n",
       "7580         2020  \n",
       "2417         1993  \n",
       "3203         1997  \n",
       "\n",
       "[7668 rows x 16 columns]"
      ]
     },
     "execution_count": 21,
     "metadata": {},
     "output_type": "execute_result"
    }
   ],
   "source": [
    "# sort the dataframe using the gross column from highest to lowest.\n",
    "df.sort_values(by='gross', inplace=False, ascending=False)"
   ]
  },
  {
   "cell_type": "code",
   "execution_count": null,
   "id": "500b09b9",
   "metadata": {},
   "outputs": [],
   "source": []
  },
  {
   "cell_type": "markdown",
   "id": "5aa32edd",
   "metadata": {},
   "source": [
    "### **Highlight** \n",
    "\n",
    " Features with high correlation with Gross Revenue."
   ]
  },
  {
   "cell_type": "code",
   "execution_count": 22,
   "id": "cb6b2c18",
   "metadata": {},
   "outputs": [
    {
     "data": {
      "image/png": "[encoded data removed]",
      "text/plain": [
       "<Figure size 864x576 with 1 Axes>"
      ]
     },
     "metadata": {
      "needs_background": "light"
     },
     "output_type": "display_data"
    }
   ],
   "source": [
    "# Scatter plot with budget vs gross revenue.\n",
    "plt.scatter(x=df['budget'], y=df['gross'])\n",
    "plt.title('Budget vs Gross')\n",
    "plt.xlabel('Film Budget')\n",
    "plt.ylabel('Gross Revenue')\n",
    "\n",
    "plt.show;"
   ]
  },
  {
   "cell_type": "code",
   "execution_count": 23,
   "id": "7984b3b5",
   "metadata": {},
   "outputs": [
    {
     "data": {
      "image/png": "[encoded data removed]",
      "text/plain": [
       "<Figure size 864x576 with 1 Axes>"
      ]
     },
     "metadata": {
      "needs_background": "light"
     },
     "output_type": "display_data"
    }
   ],
   "source": [
    "# Regplot with budget vs gross revenue using seaborn.\n",
    "sns.regplot(x='budget', y='gross', data=df, scatter_kws={'color':'black'}, line_kws={'color':'red'})\n",
    "plt.title('RegPlot of Budget vs Gross')\n",
    "plt.xlabel('Film Budget')\n",
    "plt.ylabel('Gross Revenue');"
   ]
  },
  {
   "cell_type": "markdown",
   "id": "5302f7f2",
   "metadata": {},
   "source": [
    "The above plot shows a positive correlation between the Film Budget and the Gross Revenue."
   ]
  },
  {
   "cell_type": "code",
   "execution_count": 24,
   "id": "01bf159a",
   "metadata": {},
   "outputs": [
    {
     "data": {
      "text/html": [
       "<div>\n",
       "<style scoped>\n",
       "    .dataframe tbody tr th:only-of-type {\n",
       "        vertical-align: middle;\n",
       "    }\n",
       "\n",
       "    .dataframe tbody tr th {\n",
       "        vertical-align: top;\n",
       "    }\n",
       "\n",
       "    .dataframe thead th {\n",
       "        text-align: right;\n",
       "    }\n",
       "</style>\n",
       "<table border=\"1\" class=\"dataframe\">\n",
       "  <thead>\n",
       "    <tr style=\"text-align: right;\">\n",
       "      <th></th>\n",
       "      <th>year</th>\n",
       "      <th>score</th>\n",
       "      <th>votes</th>\n",
       "      <th>budget</th>\n",
       "      <th>gross</th>\n",
       "      <th>runtime</th>\n",
       "    </tr>\n",
       "  </thead>\n",
       "  <tbody>\n",
       "    <tr>\n",
       "      <th>year</th>\n",
       "      <td>1.000000</td>\n",
       "      <td>0.097936</td>\n",
       "      <td>0.222810</td>\n",
       "      <td>0.265578</td>\n",
       "      <td>0.252042</td>\n",
       "      <td>0.120694</td>\n",
       "    </tr>\n",
       "    <tr>\n",
       "      <th>score</th>\n",
       "      <td>0.097936</td>\n",
       "      <td>1.000000</td>\n",
       "      <td>0.409182</td>\n",
       "      <td>0.064541</td>\n",
       "      <td>0.182868</td>\n",
       "      <td>0.399239</td>\n",
       "    </tr>\n",
       "    <tr>\n",
       "      <th>votes</th>\n",
       "      <td>0.222810</td>\n",
       "      <td>0.409182</td>\n",
       "      <td>1.000000</td>\n",
       "      <td>0.421007</td>\n",
       "      <td>0.628713</td>\n",
       "      <td>0.309193</td>\n",
       "    </tr>\n",
       "    <tr>\n",
       "      <th>budget</th>\n",
       "      <td>0.265578</td>\n",
       "      <td>0.064541</td>\n",
       "      <td>0.421007</td>\n",
       "      <td>1.000000</td>\n",
       "      <td>0.711270</td>\n",
       "      <td>0.265393</td>\n",
       "    </tr>\n",
       "    <tr>\n",
       "      <th>gross</th>\n",
       "      <td>0.252042</td>\n",
       "      <td>0.182868</td>\n",
       "      <td>0.628713</td>\n",
       "      <td>0.711270</td>\n",
       "      <td>1.000000</td>\n",
       "      <td>0.241298</td>\n",
       "    </tr>\n",
       "    <tr>\n",
       "      <th>runtime</th>\n",
       "      <td>0.120694</td>\n",
       "      <td>0.399239</td>\n",
       "      <td>0.309193</td>\n",
       "      <td>0.265393</td>\n",
       "      <td>0.241298</td>\n",
       "      <td>1.000000</td>\n",
       "    </tr>\n",
       "  </tbody>\n",
       "</table>\n",
       "</div>"
      ],
      "text/plain": [
       "             year     score     votes    budget     gross   runtime\n",
       "year     1.000000  0.097936  0.222810  0.265578  0.252042  0.120694\n",
       "score    0.097936  1.000000  0.409182  0.064541  0.182868  0.399239\n",
       "votes    0.222810  0.409182  1.000000  0.421007  0.628713  0.309193\n",
       "budget   0.265578  0.064541  0.421007  1.000000  0.711270  0.265393\n",
       "gross    0.252042  0.182868  0.628713  0.711270  1.000000  0.241298\n",
       "runtime  0.120694  0.399239  0.309193  0.265393  0.241298  1.000000"
      ]
     },
     "execution_count": 24,
     "metadata": {},
     "output_type": "execute_result"
    }
   ],
   "source": [
    "# checking correlation between the numerical features.\n",
    "df.corr()"
   ]
  },
  {
   "cell_type": "code",
   "execution_count": 25,
   "id": "ce7a4071",
   "metadata": {},
   "outputs": [
    {
     "data": {
      "image/png": "[encoded data removed]",
      "text/plain": [
       "<Figure size 864x576 with 2 Axes>"
      ]
     },
     "metadata": {
      "needs_background": "light"
     },
     "output_type": "display_data"
    }
   ],
   "source": [
    "# Visualize the correlation matrix.\n",
    "numeric_correlation_matrix = df.corr()\n",
    "sns.heatmap(numeric_correlation_matrix, annot=True)\n",
    "\n",
    "plt.title('Correlation Matrix for Numerical Features')\n",
    "plt.xlabel('Movie Features')\n",
    "plt.ylabel('Movie Features')\n",
    "\n",
    "plt.show();"
   ]
  },
  {
   "cell_type": "markdown",
   "id": "9c1d8d08",
   "metadata": {},
   "source": [
    "* The above correlation matrix shows that the budget and votes are most correlated features with gross having 0.71 and 0.63 respectively.\n",
    "* The least correlated features are runtime and score with values of 0.24 and 0.18 respectively."
   ]
  },
  {
   "cell_type": "markdown",
   "id": "7f808723",
   "metadata": {},
   "source": [
    "### **Categorize the columns with object datatypes and check their correlation with the gross features.**"
   ]
  },
  {
   "cell_type": "code",
   "execution_count": 26,
   "id": "c8ac7012",
   "metadata": {},
   "outputs": [
    {
     "data": {
      "text/html": [
       "<div>\n",
       "<style scoped>\n",
       "    .dataframe tbody tr th:only-of-type {\n",
       "        vertical-align: middle;\n",
       "    }\n",
       "\n",
       "    .dataframe tbody tr th {\n",
       "        vertical-align: top;\n",
       "    }\n",
       "\n",
       "    .dataframe thead th {\n",
       "        text-align: right;\n",
       "    }\n",
       "</style>\n",
       "<table border=\"1\" class=\"dataframe\">\n",
       "  <thead>\n",
       "    <tr style=\"text-align: right;\">\n",
       "      <th></th>\n",
       "      <th>name</th>\n",
       "      <th>rating</th>\n",
       "      <th>genre</th>\n",
       "      <th>year</th>\n",
       "      <th>released</th>\n",
       "      <th>score</th>\n",
       "      <th>votes</th>\n",
       "      <th>director</th>\n",
       "      <th>writer</th>\n",
       "      <th>star</th>\n",
       "      <th>country</th>\n",
       "      <th>budget</th>\n",
       "      <th>gross</th>\n",
       "      <th>company</th>\n",
       "      <th>runtime</th>\n",
       "      <th>correct_year</th>\n",
       "    </tr>\n",
       "  </thead>\n",
       "  <tbody>\n",
       "    <tr>\n",
       "      <th>0</th>\n",
       "      <td>6587</td>\n",
       "      <td>6</td>\n",
       "      <td>6</td>\n",
       "      <td>1980</td>\n",
       "      <td>1705</td>\n",
       "      <td>8.4</td>\n",
       "      <td>927000.0</td>\n",
       "      <td>2589</td>\n",
       "      <td>4014</td>\n",
       "      <td>1047</td>\n",
       "      <td>54</td>\n",
       "      <td>19000000.0</td>\n",
       "      <td>46998772.0</td>\n",
       "      <td>2319</td>\n",
       "      <td>146.0</td>\n",
       "      <td>0</td>\n",
       "    </tr>\n",
       "    <tr>\n",
       "      <th>1</th>\n",
       "      <td>5573</td>\n",
       "      <td>6</td>\n",
       "      <td>1</td>\n",
       "      <td>1980</td>\n",
       "      <td>1492</td>\n",
       "      <td>5.8</td>\n",
       "      <td>65000.0</td>\n",
       "      <td>2269</td>\n",
       "      <td>1632</td>\n",
       "      <td>327</td>\n",
       "      <td>55</td>\n",
       "      <td>4500000.0</td>\n",
       "      <td>58853106.0</td>\n",
       "      <td>731</td>\n",
       "      <td>104.0</td>\n",
       "      <td>0</td>\n",
       "    </tr>\n",
       "    <tr>\n",
       "      <th>2</th>\n",
       "      <td>5142</td>\n",
       "      <td>4</td>\n",
       "      <td>0</td>\n",
       "      <td>1980</td>\n",
       "      <td>1771</td>\n",
       "      <td>8.7</td>\n",
       "      <td>1200000.0</td>\n",
       "      <td>1111</td>\n",
       "      <td>2567</td>\n",
       "      <td>1745</td>\n",
       "      <td>55</td>\n",
       "      <td>18000000.0</td>\n",
       "      <td>538375067.0</td>\n",
       "      <td>1540</td>\n",
       "      <td>124.0</td>\n",
       "      <td>0</td>\n",
       "    </tr>\n",
       "    <tr>\n",
       "      <th>3</th>\n",
       "      <td>286</td>\n",
       "      <td>4</td>\n",
       "      <td>4</td>\n",
       "      <td>1980</td>\n",
       "      <td>1492</td>\n",
       "      <td>7.7</td>\n",
       "      <td>221000.0</td>\n",
       "      <td>1301</td>\n",
       "      <td>2000</td>\n",
       "      <td>2246</td>\n",
       "      <td>55</td>\n",
       "      <td>3500000.0</td>\n",
       "      <td>83453539.0</td>\n",
       "      <td>1812</td>\n",
       "      <td>88.0</td>\n",
       "      <td>0</td>\n",
       "    </tr>\n",
       "    <tr>\n",
       "      <th>4</th>\n",
       "      <td>1027</td>\n",
       "      <td>6</td>\n",
       "      <td>4</td>\n",
       "      <td>1980</td>\n",
       "      <td>1543</td>\n",
       "      <td>7.3</td>\n",
       "      <td>108000.0</td>\n",
       "      <td>1054</td>\n",
       "      <td>521</td>\n",
       "      <td>410</td>\n",
       "      <td>55</td>\n",
       "      <td>6000000.0</td>\n",
       "      <td>39846344.0</td>\n",
       "      <td>1777</td>\n",
       "      <td>98.0</td>\n",
       "      <td>0</td>\n",
       "    </tr>\n",
       "  </tbody>\n",
       "</table>\n",
       "</div>"
      ],
      "text/plain": [
       "   name  rating  genre  year  released  score      votes  director  writer  \\\n",
       "0  6587       6      6  1980      1705    8.4   927000.0      2589    4014   \n",
       "1  5573       6      1  1980      1492    5.8    65000.0      2269    1632   \n",
       "2  5142       4      0  1980      1771    8.7  1200000.0      1111    2567   \n",
       "3   286       4      4  1980      1492    7.7   221000.0      1301    2000   \n",
       "4  1027       6      4  1980      1543    7.3   108000.0      1054     521   \n",
       "\n",
       "   star  country      budget        gross  company  runtime  correct_year  \n",
       "0  1047       54  19000000.0   46998772.0     2319    146.0             0  \n",
       "1   327       55   4500000.0   58853106.0      731    104.0             0  \n",
       "2  1745       55  18000000.0  538375067.0     1540    124.0             0  \n",
       "3  2246       55   3500000.0   83453539.0     1812     88.0             0  \n",
       "4   410       55   6000000.0   39846344.0     1777     98.0             0  "
      ]
     },
     "execution_count": 26,
     "metadata": {},
     "output_type": "execute_result"
    }
   ],
   "source": [
    "# Let's categorize the columns with object datatype.\n",
    "df_categorized = df\n",
    "\n",
    "for col_name in df_categorized.columns:\n",
    "    if (df_categorized[col_name].dtype == 'object'):\n",
    "        df_categorized[col_name] = df_categorized[col_name].astype('category')\n",
    "        df_categorized[col_name] = df_categorized[col_name].cat.codes\n",
    "        \n",
    "df_categorized.head()"
   ]
  },
  {
   "cell_type": "markdown",
   "id": "3874cbb6",
   "metadata": {},
   "source": [
    "Each Object column is categorized"
   ]
  },
  {
   "cell_type": "code",
   "execution_count": 27,
   "id": "5a0d3057",
   "metadata": {},
   "outputs": [
    {
     "data": {
      "image/png": "[encoded data removed]",
      "text/plain": [
       "<Figure size 864x576 with 2 Axes>"
      ]
     },
     "metadata": {
      "needs_background": "light"
     },
     "output_type": "display_data"
    }
   ],
   "source": [
    "# Visualize the correlation matrix of all features (both categorize and numerical features).\n",
    "all_correlation_matrix = df_categorized.corr()\n",
    "sns.heatmap(all_correlation_matrix, annot=True)\n",
    "\n",
    "plt.title('Correlation Matrix for all Features')\n",
    "plt.xlabel('Movie Features')\n",
    "plt.ylabel('Movie Features')\n",
    "\n",
    "plt.show();"
   ]
  },
  {
   "cell_type": "code",
   "execution_count": 28,
   "id": "d4a8d5ad",
   "metadata": {},
   "outputs": [
    {
     "data": {
      "text/plain": [
       "name    name            1.000000\n",
       "        rating         -0.011776\n",
       "        genre           0.016355\n",
       "        year            0.011453\n",
       "        released       -0.010758\n",
       "        score           0.017095\n",
       "        votes           0.013086\n",
       "        director        0.009079\n",
       "        writer          0.009033\n",
       "        star            0.006820\n",
       "        country        -0.010127\n",
       "        budget          0.020368\n",
       "        gross           0.005466\n",
       "        company         0.009980\n",
       "        runtime         0.010448\n",
       "        correct_year    0.010221\n",
       "rating  name           -0.011776\n",
       "        rating          1.000000\n",
       "        genre           0.116837\n",
       "        year            0.025051\n",
       "        released        0.022667\n",
       "        score           0.011322\n",
       "        votes           0.017057\n",
       "        director        0.018842\n",
       "        writer         -0.004470\n",
       "        star            0.007728\n",
       "        country         0.036900\n",
       "        budget         -0.154311\n",
       "        gross          -0.127284\n",
       "        company        -0.075280\n",
       "        runtime         0.068470\n",
       "        correct_year    0.023655\n",
       "genre   name            0.016355\n",
       "        rating          0.116837\n",
       "        genre           1.000000\n",
       "        year           -0.081261\n",
       "        released        0.030186\n",
       "        score           0.027959\n",
       "        votes          -0.145276\n",
       "        director       -0.015258\n",
       "        writer          0.006434\n",
       "        star           -0.004696\n",
       "        country        -0.036506\n",
       "        budget         -0.310566\n",
       "        gross          -0.230267\n",
       "        company        -0.070347\n",
       "        runtime        -0.052806\n",
       "        correct_year   -0.081616\n",
       "year    name            0.011453\n",
       "        rating          0.025051\n",
       "        genre          -0.081261\n",
       "        year            1.000000\n",
       "        released       -0.000307\n",
       "        score           0.097936\n",
       "        votes           0.222810\n",
       "        director       -0.020795\n",
       "        writer         -0.008240\n",
       "        star           -0.027871\n",
       "        country        -0.069859\n",
       "        budget          0.265578\n",
       "dtype: float64"
      ]
     },
     "execution_count": 28,
     "metadata": {},
     "output_type": "execute_result"
    }
   ],
   "source": [
    "# Unstack the correlations to see more clearly.\n",
    "correlation_mat = df_categorized.corr()\n",
    "\n",
    "corr_pairs = correlation_mat.unstack()\n",
    "corr_pairs.head(60)"
   ]
  },
  {
   "cell_type": "code",
   "execution_count": 29,
   "id": "2b6206c7",
   "metadata": {},
   "outputs": [
    {
     "data": {
      "text/plain": [
       "genre         budget         -0.310566\n",
       "budget        genre          -0.310566\n",
       "genre         gross          -0.230267\n",
       "gross         genre          -0.230267\n",
       "rating        budget         -0.154311\n",
       "budget        rating         -0.154311\n",
       "votes         genre          -0.145276\n",
       "genre         votes          -0.145276\n",
       "score         country        -0.134418\n",
       "country       score          -0.134418\n",
       "gross         rating         -0.127284\n",
       "rating        gross          -0.127284\n",
       "genre         correct_year   -0.081616\n",
       "correct_year  genre          -0.081616\n",
       "year          genre          -0.081261\n",
       "genre         year           -0.081261\n",
       "runtime       country        -0.078803\n",
       "country       runtime        -0.078803\n",
       "              correct_year   -0.075539\n",
       "correct_year  country        -0.075539\n",
       "company       rating         -0.075280\n",
       "rating        company        -0.075280\n",
       "genre         company        -0.070347\n",
       "company       genre          -0.070347\n",
       "country       year           -0.069859\n",
       "year          country        -0.069859\n",
       "genre         runtime        -0.052806\n",
       "runtime       genre          -0.052806\n",
       "country       genre          -0.036506\n",
       "genre         country        -0.036506\n",
       "writer        budget         -0.033223\n",
       "budget        writer         -0.033223\n",
       "year          star           -0.027871\n",
       "star          year           -0.027871\n",
       "              correct_year   -0.025902\n",
       "correct_year  star           -0.025902\n",
       "writer        gross          -0.022982\n",
       "gross         writer         -0.022982\n",
       "released      country        -0.021963\n",
       "country       released       -0.021963\n",
       "director      year           -0.020795\n",
       "year          director       -0.020795\n",
       "votes         star           -0.019495\n",
       "star          votes          -0.019495\n",
       "director      correct_year   -0.018666\n",
       "correct_year  director       -0.018666\n",
       "star          budget         -0.017033\n",
       "budget        star           -0.017033\n",
       "director      genre          -0.015258\n",
       "genre         director       -0.015258\n",
       "star          country        -0.014519\n",
       "country       star           -0.014519\n",
       "gross         director       -0.014272\n",
       "director      gross          -0.014272\n",
       "rating        name           -0.011776\n",
       "name          rating         -0.011776\n",
       "              released       -0.010758\n",
       "released      name           -0.010758\n",
       "director      budget         -0.010364\n",
       "budget        director       -0.010364\n",
       "dtype: float64"
      ]
     },
     "execution_count": 29,
     "metadata": {},
     "output_type": "execute_result"
    }
   ],
   "source": [
    "# Sorting the features in term of value.\n",
    "sorted_pairs = corr_pairs.sort_values()\n",
    "\n",
    "sorted_pairs.head(60)"
   ]
  },
  {
   "cell_type": "markdown",
   "id": "6c3f265e",
   "metadata": {},
   "source": [
    "### **Classifying features base on high or low correlation with gross revenue.**"
   ]
  },
  {
   "cell_type": "code",
   "execution_count": 30,
   "id": "2cef7fc4",
   "metadata": {},
   "outputs": [
    {
     "data": {
      "text/plain": [
       "votes         gross           0.628713\n",
       "gross         votes           0.628713\n",
       "budget        gross           0.711270\n",
       "gross         budget          0.711270\n",
       "year          correct_year    0.993136\n",
       "correct_year  year            0.993136\n",
       "dtype: float64"
      ]
     },
     "execution_count": 30,
     "metadata": {},
     "output_type": "execute_result"
    }
   ],
   "source": [
    "# Features having correlation greater than or equal to 0.5 but not 1.\n",
    "# Features having 1 correlation are definately feature compare to itself.\n",
    "high_corr = sorted_pairs[(sorted_pairs >= 0.5) & (sorted_pairs != 1)]\n",
    "high_corr"
   ]
  },
  {
   "cell_type": "markdown",
   "id": "30abceeb",
   "metadata": {},
   "source": [
    "* The budget and votes values are greater than 0.5"
   ]
  },
  {
   "cell_type": "code",
   "execution_count": 31,
   "id": "9b6e9940",
   "metadata": {},
   "outputs": [
    {
     "data": {
      "text/plain": [
       "genre    budget   -0.310566\n",
       "budget   genre    -0.310566\n",
       "genre    gross    -0.230267\n",
       "gross    genre    -0.230267\n",
       "rating   budget   -0.154311\n",
       "                     ...   \n",
       "runtime  score     0.399239\n",
       "score    votes     0.409182\n",
       "votes    score     0.409182\n",
       "         budget    0.421007\n",
       "budget   votes     0.421007\n",
       "Length: 234, dtype: float64"
      ]
     },
     "execution_count": 31,
     "metadata": {},
     "output_type": "execute_result"
    }
   ],
   "source": [
    "# Features having correlation less than 0.5.\n",
    "low_corr = sorted_pairs[(sorted_pairs < 0.5)]\n",
    "low_corr"
   ]
  },
  {
   "cell_type": "markdown",
   "id": "fc59de11",
   "metadata": {},
   "source": [
    "### **Conclusion:**\n",
    "\n",
    "* The movies are recorded from 1980 to 2020.\n",
    "* Budget and votes  have the highest correlation to gross revenue with value of 0.711 and 0.629.\n",
    "* The least correlated features are runtime and score with values of 0.24 and 0.18 respectively."
   ]
  },
  {
   "cell_type": "code",
   "execution_count": null,
   "id": "cefc0ce3",
   "metadata": {},
   "outputs": [],
   "source": []
  }
 ],
 "metadata": {
  "kernelspec": {
   "display_name": "Python [conda env:dap]",
   "language": "python",
   "name": "conda-env-dap-py"
  },
  "language_info": {
   "codemirror_mode": {
    "name": "ipython",
    "version": 3
   },
   "file_extension": ".py",
   "mimetype": "text/x-python",
   "name": "python",
   "nbconvert_exporter": "python",
   "pygments_lexer": "ipython3",
   "version": "3.9.7"
  }
 },
 "nbformat": 4,
 "nbformat_minor": 5
}
